{
  "nbformat": 4,
  "nbformat_minor": 0,
  "metadata": {
    "colab": {
      "provenance": []
    },
    "kernelspec": {
      "name": "python3",
      "display_name": "Python 3"
    },
    "language_info": {
      "name": "python"
    }
  },
  "cells": [
    {
      "cell_type": "markdown",
      "source": [
        "#**Task 1**\n",
        "Write a program which will take input a number from user and print the numbers multiplication table from 1 to 10.\n"
      ],
      "metadata": {
        "id": "CUik1vb22E2i"
      }
    },
    {
      "cell_type": "code",
      "source": [
        "# Task 1\n",
        "\n",
        "user_input = int(input(\"Enter your first number: \"))\n",
        "print(f\"Your number multiplied number is: {user_input}\")\n",
        "for i in range(1,11):\n",
        "    print(f\"{user_input} x {i} = {user_input * i}\")"
      ],
      "metadata": {
        "colab": {
          "base_uri": "https://localhost:8080/"
        },
        "id": "0wX9LngxD6yP",
        "outputId": "4a4d82ba-d6ef-447f-f76a-e15a7a83c91b"
      },
      "execution_count": 1,
      "outputs": [
        {
          "output_type": "stream",
          "name": "stdout",
          "text": [
            "Enter your first number: 9\n",
            "Your number multiplied number is: 9\n",
            "9 x 1 = 9\n",
            "9 x 2 = 18\n",
            "9 x 3 = 27\n",
            "9 x 4 = 36\n",
            "9 x 5 = 45\n",
            "9 x 6 = 54\n",
            "9 x 7 = 63\n",
            "9 x 8 = 72\n",
            "9 x 9 = 81\n",
            "9 x 10 = 90\n"
          ]
        }
      ]
    },
    {
      "cell_type": "markdown",
      "source": [
        "#**Task 2**\n",
        "Write a program which will find the factorial of a given number.\n",
        "\n",
        "\n",
        "Example of Factorial:\n",
        "\n",
        "Input number = 5  \n",
        "\n",
        "Factorial  = 5x4x3x2x1\n"
      ],
      "metadata": {
        "id": "w2ef4Jis3JLX"
      }
    },
    {
      "cell_type": "code",
      "source": [
        "user = int(input(\"Enter your number: \"))\n",
        "factorial = 1\n",
        "for i in range(1,user + 1):\n",
        "  factorial *= i\n",
        "print(f\"Factorial Number of {user} is {factorial}\")\n"
      ],
      "metadata": {
        "colab": {
          "base_uri": "https://localhost:8080/"
        },
        "id": "AhRV9TJzE7M2",
        "outputId": "ccb4200e-cc73-4341-d0db-fbbeacd55add"
      },
      "execution_count": 2,
      "outputs": [
        {
          "output_type": "stream",
          "name": "stdout",
          "text": [
            "Enter your number: 9\n",
            "Factorial Number of 9 is 362880\n"
          ]
        }
      ]
    },
    {
      "cell_type": "markdown",
      "source": [
        "#**Task 3**\n",
        "Write a program to print all prime numbers from 1 to 15."
      ],
      "metadata": {
        "id": "7qzDGuY53g81"
      }
    },
    {
      "cell_type": "code",
      "source": [
        "print(\"Prime numbers from 1 to 15:\")\n",
        "for num in range(2, 16):\n",
        "    if all(num % i != 0 for i in range(2, int(num ** 0.5) + 1)):\n",
        "        print(num, end=\" \")\n"
      ],
      "metadata": {
        "colab": {
          "base_uri": "https://localhost:8080/"
        },
        "id": "-HxDbZjHGOhy",
        "outputId": "159fbdd5-0a3c-4e12-c257-1285f5e05bea"
      },
      "execution_count": 3,
      "outputs": [
        {
          "output_type": "stream",
          "name": "stdout",
          "text": [
            "Prime numbers from 1 to 15:\n",
            "2 3 5 7 11 13 "
          ]
        }
      ]
    },
    {
      "cell_type": "markdown",
      "source": [
        "#**Task 4**\n",
        "Write a program which finds out the frequency (count) of all elements in the following list.\n",
        "\n",
        "\n",
        "List= [4,5,6,3,2,5,5,4,78,4,1,5]"
      ],
      "metadata": {
        "id": "Bhm2goTh5Yno"
      }
    },
    {
      "cell_type": "code",
      "source": [
        "List = [4, 5, 6, 3, 2, 5, 5, 4, 78, 4, 1, 5]\n",
        "frequency = {}\n",
        "\n",
        "for num in List:\n",
        "    frequency[num] = frequency.get(num, 0) + 1\n",
        "\n",
        "print(\"Element frequencies:\")\n",
        "for key, value in frequency.items():\n",
        "    print(f\"{key}: {value}\")\n"
      ],
      "metadata": {
        "colab": {
          "base_uri": "https://localhost:8080/"
        },
        "id": "zFTUFWeQGuON",
        "outputId": "289e2865-c5f1-4d27-e214-4cdccb6bf81f"
      },
      "execution_count": 4,
      "outputs": [
        {
          "output_type": "stream",
          "name": "stdout",
          "text": [
            "Element frequencies:\n",
            "4: 3\n",
            "5: 4\n",
            "6: 1\n",
            "3: 1\n",
            "2: 1\n",
            "78: 1\n",
            "1: 1\n"
          ]
        }
      ]
    }
  ]
}